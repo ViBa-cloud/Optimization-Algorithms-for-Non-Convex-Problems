{
 "cells": [
  {
   "cell_type": "code",
   "execution_count": 1,
   "metadata": {},
   "outputs": [],
   "source": [
    "# IOE 511/MATH 562, University of Michigan\n",
    "# Code written by: Chenfei Li, Rachit Garg, Vinayak Bassi\n",
    "import numpy as np\n",
    "import project_problems\n",
    "import algorithms\n",
    "from optSolver_Dynamix import optSolver_Dynamix\n",
    "import matplotlib.pyplot as plt\n",
    "import pandas as pd\n",
    "\n",
    "## Define three class objects required in 'optSolver' and their attributes \n",
    "## For Problem, it has name, x0, compute_f, compute_g, and compute_H\n",
    "class Problem:\n",
    "    def __init__(self,name,x0, compute_f,compute_g,compute_H):\n",
    "        self.name = name\n",
    "        self.x0 = x0\n",
    "        self.compute_f = compute_f\n",
    "        self.compute_g = compute_g\n",
    "        self.compute_H = compute_H"
   ]
  },
  {
   "cell_type": "code",
   "execution_count": 2,
   "metadata": {},
   "outputs": [],
   "source": [
    "## For Method, it has name, the name of the method; and step_type, \"Backtracking\" or \"Wolfe\" (GD also accpets \"Constant\")\n",
    "class Method:\n",
    "    def __init__(self,name,step_type):\n",
    "        self.name = name\n",
    "        self.step_type = step_type"
   ]
  },
  {
   "cell_type": "code",
   "execution_count": 3,
   "metadata": {},
   "outputs": [],
   "source": [
    "# For Options, it sets all parameters with default values. \n",
    "# (constant_step_size is the default step size for GD method with constant step size), \n",
    "# although this method is not used, we still would like to keep it there\n",
    "class Options:\n",
    "    def __init__(self,term_tol = 1e-6, max_iterations = 1e3, constant_step_size = 1e-3, alpha_bar = 1, alpha_low = 0, alpha_high = 1000, \\\n",
    "                 c_1_ls = 10 ** (-4), c_2_ls = 0.9, c_ls_w = 0.5, tau_ls = 0.5, \\\n",
    "                 c_1_tr = 0.1, c_2_tr = 0.9, c_3_tr = 1e-6, delta_tr = 0.1, max_iterations_CG = 1e3, term_tol_CG = 1e-6, beta_Newton = 1e-6):\n",
    "        self.term_tol = term_tol\n",
    "        self.max_iterations = max_iterations\n",
    "        self.constant_step_size = constant_step_size\n",
    "        self.alpha_bar = alpha_bar\n",
    "        self.alpha_low = alpha_low\n",
    "        self.alpha_high = alpha_high\n",
    "        self.c_1_ls = c_1_ls\n",
    "        self.c_2_ls = c_2_ls\n",
    "        self.c_ls_w = c_ls_w\n",
    "        self.tau_ls = tau_ls \n",
    "        self.c_1_tr = c_1_tr\n",
    "        self.c_2_tr = c_2_tr\n",
    "        self.c_3_tr = c_3_tr\n",
    "        self.delta_tr = delta_tr\n",
    "        self.max_iterations_CG = max_iterations_CG\n",
    "        self.term_tol_CG = term_tol_CG\n",
    "        self.beta_Newton = beta_Newton"
   ]
  },
  {
   "cell_type": "markdown",
   "metadata": {},
   "source": [
    "Problem 1"
   ]
  },
  {
   "cell_type": "code",
   "execution_count": 4,
   "metadata": {},
   "outputs": [],
   "source": [
    "np.random.seed(0)\n",
    "x0 = 20 * np.random.rand(10, 1) - 10\n",
    "problem = Problem('P1_quad_10_10',x0, project_problems.quad_10_10_func, project_problems.quad_10_10_grad, project_problems.quad_10_10_Hess)"
   ]
  },
  {
   "cell_type": "code",
   "execution_count": 5,
   "metadata": {},
   "outputs": [],
   "source": [
    "method_gd_backtrack = Method('GradientDescent', 'Backtracking')\n",
    "method_gd_wolfe = Method('GradientDescent', 'Wolfe')\n",
    "method_modified_newton_backtrack = Method('ModifiedNewton', 'Backtracking')\n",
    "method_modified_newton_wolfe = Method('ModifiedNewton', 'Wolfe')\n",
    "method_tr_newton = Method(\"TRNewtonCG\", \"CG\")\n",
    "method_tr_sr1 = Method(\"TRSR1CG\", \"CG\")\n",
    "method_BFGS_backtrack = Method('BFGS', 'Backtracking')\n",
    "method_BFGS_wolfe = Method('BFGS', 'Wolfe')\n",
    "method_DFP_backtrack = Method('DFP', 'Backtracking')\n",
    "method_DFP_wolfe = Method('DFP', 'Wolfe')"
   ]
  },
  {
   "cell_type": "code",
   "execution_count": 6,
   "metadata": {},
   "outputs": [],
   "source": [
    "options = Options(delta_tr = 17)"
   ]
  },
  {
   "cell_type": "code",
   "execution_count": 7,
   "metadata": {},
   "outputs": [],
   "source": [
    "x_backtrack_gd, f_backtrack_gd = optSolver_Dynamix(problem,method_gd_backtrack,options)\n",
    "x_wolfe_gd, f_wolfe_gd = optSolver_Dynamix(problem,method_gd_wolfe,options)\n",
    "x_backtrack_newton, f_backtrack_newton = optSolver_Dynamix(problem,method_modified_newton_backtrack,options)\n",
    "x_wolfe_newton, f_wolfe_newton = optSolver_Dynamix(problem,method_modified_newton_wolfe,options)\n",
    "\n",
    "x_tr_newton, f_tr_newton = optSolver_Dynamix(problem,method_tr_newton,options)\n",
    "x_tr_sr1, f_tr_sr1 = optSolver_Dynamix(problem,method_tr_sr1,options)\n",
    "\n",
    "x_backtrack_BFGS, f_backtrack_BFGS = optSolver_Dynamix(problem,method_BFGS_backtrack,options)\n",
    "x_wolfe_BFGS, f_wolfe_BFGS  = optSolver_Dynamix(problem,method_BFGS_wolfe,options)\n",
    "x_backtrack_DFP, f_backtrack_DFP = optSolver_Dynamix(problem,method_DFP_backtrack,options)\n",
    "x_wolfe_DFP, f_wolfe_DFP = optSolver_Dynamix(problem,method_DFP_wolfe,options)"
   ]
  },
  {
   "cell_type": "markdown",
   "metadata": {},
   "source": [
    "Problem 2"
   ]
  },
  {
   "cell_type": "code",
   "execution_count": 8,
   "metadata": {},
   "outputs": [],
   "source": [
    "np.random.seed(0)\n",
    "x0 = 20 * np.random.rand(10, 1) - 10\n",
    "problem = Problem('P2_quad_10_1000',x0, project_problems.quad_10_1000_func, project_problems.quad_10_1000_grad, project_problems.quad_10_1000_Hess)"
   ]
  },
  {
   "cell_type": "code",
   "execution_count": 9,
   "metadata": {},
   "outputs": [],
   "source": [
    "options = Options(c_2_ls = 0.5, delta_tr = 609)"
   ]
  },
  {
   "cell_type": "code",
   "execution_count": 10,
   "metadata": {},
   "outputs": [],
   "source": [
    "x_backtrack_gd, f_backtrack_gd = optSolver_Dynamix(problem,method_gd_backtrack,options)\n",
    "x_wolfe_gd, f_wolfe_gd = optSolver_Dynamix(problem,method_gd_wolfe,options)\n",
    "x_backtrack_newton, f_backtrack_newton = optSolver_Dynamix(problem,method_modified_newton_backtrack,options)\n",
    "x_wolfe_newton, f_wolfe_newton = optSolver_Dynamix(problem,method_modified_newton_wolfe,options)\n",
    "\n",
    "x_tr_newton, f_tr_newton = optSolver_Dynamix(problem,method_tr_newton,options)\n",
    "x_tr_sr1, f_tr_sr1 = optSolver_Dynamix(problem,method_tr_sr1,options)\n",
    "\n",
    "x_backtrack_BFGS, f_backtrack_BFGS = optSolver_Dynamix(problem,method_BFGS_backtrack,options)\n",
    "x_wolfe_BFGS, f_wolfe_BFGS  = optSolver_Dynamix(problem,method_BFGS_wolfe,options)\n",
    "x_backtrack_DFP, f_backtrack_DFP = optSolver_Dynamix(problem,method_DFP_backtrack,options)\n",
    "x_wolfe_DFP, f_wolfe_DFP = optSolver_Dynamix(problem,method_DFP_wolfe,options)"
   ]
  },
  {
   "cell_type": "markdown",
   "metadata": {},
   "source": [
    "Problem 3"
   ]
  },
  {
   "cell_type": "code",
   "execution_count": 11,
   "metadata": {},
   "outputs": [],
   "source": [
    "np.random.seed(0)\n",
    "x0 = 20 * np.random.rand(1000, 1) - 10\n",
    "problem = Problem('P3_quad_1000_10',x0, project_problems.quad_1000_10_func, project_problems.quad_1000_10_grad, project_problems.quad_1000_10_Hess)"
   ]
  },
  {
   "cell_type": "code",
   "execution_count": 12,
   "metadata": {},
   "outputs": [],
   "source": [
    "options = Options(c_2_ls = 0.5, delta_tr = 239)"
   ]
  },
  {
   "cell_type": "code",
   "execution_count": 13,
   "metadata": {},
   "outputs": [],
   "source": [
    "x_backtrack_gd, f_backtrack_gd = optSolver_Dynamix(problem,method_gd_backtrack,options)\n",
    "x_wolfe_gd, f_wolfe_gd = optSolver_Dynamix(problem,method_gd_wolfe,options)\n",
    "x_backtrack_newton, f_backtrack_newton = optSolver_Dynamix(problem,method_modified_newton_backtrack,options)\n",
    "x_wolfe_newton, f_wolfe_newton = optSolver_Dynamix(problem,method_modified_newton_wolfe,options)\n",
    "\n",
    "x_tr_newton, f_tr_newton = optSolver_Dynamix(problem,method_tr_newton,options)\n",
    "x_tr_sr1, f_tr_sr1 = optSolver_Dynamix(problem,method_tr_sr1,options)\n",
    "\n",
    "x_backtrack_BFGS, f_backtrack_BFGS = optSolver_Dynamix(problem,method_BFGS_backtrack,options)\n",
    "x_wolfe_BFGS, f_wolfe_BFGS  = optSolver_Dynamix(problem,method_BFGS_wolfe,options)\n",
    "x_backtrack_DFP, f_backtrack_DFP = optSolver_Dynamix(problem,method_DFP_backtrack,options)\n",
    "x_wolfe_DFP, f_wolfe_DFP = optSolver_Dynamix(problem,method_DFP_wolfe,options)"
   ]
  },
  {
   "cell_type": "markdown",
   "metadata": {},
   "source": [
    "Problem 4"
   ]
  },
  {
   "cell_type": "code",
   "execution_count": 14,
   "metadata": {},
   "outputs": [],
   "source": [
    "np.random.seed(0)\n",
    "x0 = 20 * np.random.rand(1000, 1) - 10\n",
    "problem = Problem('P4_quad_1000_1000',x0, project_problems.quad_1000_1000_func, project_problems.quad_1000_1000_grad, project_problems.quad_1000_1000_Hess)"
   ]
  },
  {
   "cell_type": "code",
   "execution_count": 15,
   "metadata": {},
   "outputs": [],
   "source": [
    "options = Options(c_2_ls = 0.5, delta_tr = 8537)"
   ]
  },
  {
   "cell_type": "code",
   "execution_count": null,
   "metadata": {},
   "outputs": [],
   "source": [
    "x_backtrack_gd, f_backtrack_gd = optSolver_Dynamix(problem,method_gd_backtrack,options)\n",
    "x_wolfe_gd, f_wolfe_gd = optSolver_Dynamix(problem,method_gd_wolfe,options)\n",
    "x_backtrack_newton, f_backtrack_newton = optSolver_Dynamix(problem,method_modified_newton_backtrack,options)\n",
    "x_wolfe_newton, f_wolfe_newton = optSolver_Dynamix(problem,method_modified_newton_wolfe,options)\n",
    "\n",
    "x_tr_newton, f_tr_newton = optSolver_Dynamix(problem,method_tr_newton,options)\n",
    "x_tr_sr1, f_tr_sr1 = optSolver_Dynamix(problem,method_tr_sr1,options)\n",
    "\n",
    "x_backtrack_BFGS, f_backtrack_BFGS = optSolver_Dynamix(problem,method_BFGS_backtrack,options)\n",
    "x_wolfe_BFGS, f_wolfe_BFGS  = optSolver_Dynamix(problem,method_BFGS_wolfe,options)\n",
    "x_backtrack_DFP, f_backtrack_DFP = optSolver_Dynamix(problem,method_DFP_backtrack,options)\n",
    "x_wolfe_DFP, f_wolfe_DFP = optSolver_Dynamix(problem,method_DFP_wolfe,options)"
   ]
  },
  {
   "cell_type": "markdown",
   "metadata": {},
   "source": [
    "Problem 5"
   ]
  },
  {
   "cell_type": "code",
   "execution_count": 16,
   "metadata": {},
   "outputs": [],
   "source": [
    "x0 = np.array([[np.cos(70)],[np.sin(70)], [np.cos(70)], [np.sin(70)]])\n",
    "problem = Problem('P5_quartic_1',x0, project_problems.quartic_1_func, project_problems.quartic_1_grad, project_problems.quartic_1_Hess)"
   ]
  },
  {
   "cell_type": "code",
   "execution_count": 17,
   "metadata": {},
   "outputs": [],
   "source": [
    "options = Options()"
   ]
  },
  {
   "cell_type": "code",
   "execution_count": 18,
   "metadata": {},
   "outputs": [],
   "source": [
    "x_backtrack_gd, f_backtrack_gd = optSolver_Dynamix(problem,method_gd_backtrack,options)\n",
    "x_wolfe_gd, f_wolfe_gd = optSolver_Dynamix(problem,method_gd_wolfe,options)\n",
    "x_backtrack_newton, f_backtrack_newton = optSolver_Dynamix(problem,method_modified_newton_backtrack,options)\n",
    "x_wolfe_newton, f_wolfe_newton = optSolver_Dynamix(problem,method_modified_newton_wolfe,options)\n",
    "\n",
    "x_tr_newton, f_tr_newton = optSolver_Dynamix(problem,method_tr_newton,options)\n",
    "x_tr_sr1, f_tr_sr1 = optSolver_Dynamix(problem,method_tr_sr1,options)\n",
    "\n",
    "x_backtrack_BFGS, f_backtrack_BFGS = optSolver_Dynamix(problem,method_BFGS_backtrack,options)\n",
    "x_wolfe_BFGS, f_wolfe_BFGS  = optSolver_Dynamix(problem,method_BFGS_wolfe,options)\n",
    "x_backtrack_DFP, f_backtrack_DFP = optSolver_Dynamix(problem,method_DFP_backtrack,options)\n",
    "x_wolfe_DFP, f_wolfe_DFP = optSolver_Dynamix(problem,method_DFP_wolfe,options)"
   ]
  },
  {
   "cell_type": "markdown",
   "metadata": {},
   "source": [
    "Problem 6"
   ]
  },
  {
   "cell_type": "code",
   "execution_count": 19,
   "metadata": {},
   "outputs": [],
   "source": [
    "x0 = np.array([[np.cos(70)],[np.sin(70)], [np.cos(70)], [np.sin(70)]])\n",
    "problem = Problem('P6_quartic_2',x0, project_problems.quartic_2_func, project_problems.quartic_2_grad, project_problems.quartic_2_Hess)"
   ]
  },
  {
   "cell_type": "code",
   "execution_count": 20,
   "metadata": {},
   "outputs": [],
   "source": [
    "options = Options()"
   ]
  },
  {
   "cell_type": "code",
   "execution_count": 21,
   "metadata": {},
   "outputs": [],
   "source": [
    "x_backtrack_gd, f_backtrack_gd = optSolver_Dynamix(problem,method_gd_backtrack,options)\n",
    "x_wolfe_gd, f_wolfe_gd = optSolver_Dynamix(problem,method_gd_wolfe,options)\n",
    "x_backtrack_newton, f_backtrack_newton = optSolver_Dynamix(problem,method_modified_newton_backtrack,options)\n",
    "x_wolfe_newton, f_wolfe_newton = optSolver_Dynamix(problem,method_modified_newton_wolfe,options)\n",
    "\n",
    "x_tr_newton, f_tr_newton = optSolver_Dynamix(problem,method_tr_newton,options)\n",
    "x_tr_sr1, f_tr_sr1 = optSolver_Dynamix(problem,method_tr_sr1,options)\n",
    "\n",
    "x_backtrack_BFGS, f_backtrack_BFGS = optSolver_Dynamix(problem,method_BFGS_backtrack,options)\n",
    "x_wolfe_BFGS, f_wolfe_BFGS  = optSolver_Dynamix(problem,method_BFGS_wolfe,options)\n",
    "x_backtrack_DFP, f_backtrack_DFP = optSolver_Dynamix(problem,method_DFP_backtrack,options)\n",
    "x_wolfe_DFP, f_wolfe_DFP = optSolver_Dynamix(problem,method_DFP_wolfe,options)"
   ]
  },
  {
   "cell_type": "markdown",
   "metadata": {},
   "source": [
    "Problem 7"
   ]
  },
  {
   "cell_type": "code",
   "execution_count": 22,
   "metadata": {},
   "outputs": [],
   "source": [
    "x0 = np.array([[-1.2], [1]])\n",
    "problem = Problem('P7_rosen_2',x0, project_problems.rosen_func, project_problems.rosen_grad, project_problems.rosen_Hess)"
   ]
  },
  {
   "cell_type": "code",
   "execution_count": 23,
   "metadata": {},
   "outputs": [],
   "source": [
    "options = Options(c_2_ls = 0.5)"
   ]
  },
  {
   "cell_type": "code",
   "execution_count": 24,
   "metadata": {},
   "outputs": [],
   "source": [
    "x_backtrack_gd, f_backtrack_gd = optSolver_Dynamix(problem,method_gd_backtrack,options)\n",
    "x_wolfe_gd, f_wolfe_gd = optSolver_Dynamix(problem,method_gd_wolfe,options)\n",
    "x_backtrack_newton, f_backtrack_newton = optSolver_Dynamix(problem,method_modified_newton_backtrack,options)\n",
    "x_wolfe_newton, f_wolfe_newton = optSolver_Dynamix(problem,method_modified_newton_wolfe,options)\n",
    "\n",
    "x_tr_newton, f_tr_newton = optSolver_Dynamix(problem,method_tr_newton,options)\n",
    "x_tr_sr1, f_tr_sr1 = optSolver_Dynamix(problem,method_tr_sr1,options)\n",
    "\n",
    "x_backtrack_BFGS, f_backtrack_BFGS = optSolver_Dynamix(problem,method_BFGS_backtrack,options)\n",
    "x_wolfe_BFGS, f_wolfe_BFGS  = optSolver_Dynamix(problem,method_BFGS_wolfe,options)\n",
    "x_backtrack_DFP, f_backtrack_DFP = optSolver_Dynamix(problem,method_DFP_backtrack,options)\n",
    "x_wolfe_DFP, f_wolfe_DFP = optSolver_Dynamix(problem,method_DFP_wolfe,options)"
   ]
  },
  {
   "cell_type": "markdown",
   "metadata": {},
   "source": [
    "Problem 8"
   ]
  },
  {
   "cell_type": "code",
   "execution_count": 25,
   "metadata": {},
   "outputs": [],
   "source": [
    "x0 = np.ones((100, 1))\n",
    "x0[0][0] = -1.2\n",
    "problem = Problem('P8_rosen_100',x0, project_problems.rosen_func, project_problems.rosen_grad, project_problems.rosen_Hess)"
   ]
  },
  {
   "cell_type": "code",
   "execution_count": 26,
   "metadata": {},
   "outputs": [],
   "source": [
    "options = Options()"
   ]
  },
  {
   "cell_type": "code",
   "execution_count": 27,
   "metadata": {},
   "outputs": [],
   "source": [
    "x_backtrack_gd, f_backtrack_gd = optSolver_Dynamix(problem,method_gd_backtrack,options)\n",
    "x_wolfe_gd, f_wolfe_gd = optSolver_Dynamix(problem,method_gd_wolfe,options)\n",
    "x_backtrack_newton, f_backtrack_newton = optSolver_Dynamix(problem,method_modified_newton_backtrack,options)\n",
    "x_wolfe_newton, f_wolfe_newton = optSolver_Dynamix(problem,method_modified_newton_wolfe,options)\n",
    "\n",
    "x_tr_newton, f_tr_newton = optSolver_Dynamix(problem,method_tr_newton,options)\n",
    "x_tr_sr1, f_tr_sr1 = optSolver_Dynamix(problem,method_tr_sr1,options)\n",
    "\n",
    "x_backtrack_BFGS, f_backtrack_BFGS = optSolver_Dynamix(problem,method_BFGS_backtrack,options)\n",
    "x_wolfe_BFGS, f_wolfe_BFGS  = optSolver_Dynamix(problem,method_BFGS_wolfe,options)\n",
    "x_backtrack_DFP, f_backtrack_DFP = optSolver_Dynamix(problem,method_DFP_backtrack,options)\n",
    "x_wolfe_DFP, f_wolfe_DFP = optSolver_Dynamix(problem,method_DFP_wolfe,options)"
   ]
  },
  {
   "cell_type": "markdown",
   "metadata": {},
   "source": [
    "Problem 9"
   ]
  },
  {
   "cell_type": "code",
   "execution_count": 28,
   "metadata": {},
   "outputs": [],
   "source": [
    "x0 = np.array([[1], [1]])\n",
    "problem = Problem('P9_data_fit_2',x0, project_problems.data_fit_2_func, project_problems.data_fit_2_grad, project_problems.data_fit_2_Hess)"
   ]
  },
  {
   "cell_type": "code",
   "execution_count": 29,
   "metadata": {},
   "outputs": [],
   "source": [
    "options = Options()"
   ]
  },
  {
   "cell_type": "code",
   "execution_count": 30,
   "metadata": {},
   "outputs": [],
   "source": [
    "x_backtrack_gd, f_backtrack_gd = optSolver_Dynamix(problem,method_gd_backtrack,options)\n",
    "x_wolfe_gd, f_wolfe_gd = optSolver_Dynamix(problem,method_gd_wolfe,options)\n",
    "x_backtrack_newton, f_backtrack_newton = optSolver_Dynamix(problem,method_modified_newton_backtrack,options)\n",
    "x_wolfe_newton, f_wolfe_newton = optSolver_Dynamix(problem,method_modified_newton_wolfe,options)\n",
    "\n",
    "x_tr_newton, f_tr_newton = optSolver_Dynamix(problem,method_tr_newton,options)\n",
    "x_tr_sr1, f_tr_sr1 = optSolver_Dynamix(problem,method_tr_sr1,options)\n",
    "\n",
    "x_backtrack_BFGS, f_backtrack_BFGS = optSolver_Dynamix(problem,method_BFGS_backtrack,options)\n",
    "x_wolfe_BFGS, f_wolfe_BFGS  = optSolver_Dynamix(problem,method_BFGS_wolfe,options)\n",
    "x_backtrack_DFP, f_backtrack_DFP = optSolver_Dynamix(problem,method_DFP_backtrack,options)\n",
    "x_wolfe_DFP, f_wolfe_DFP = optSolver_Dynamix(problem,method_DFP_wolfe,options)"
   ]
  },
  {
   "cell_type": "markdown",
   "metadata": {},
   "source": [
    "Problem 10"
   ]
  },
  {
   "cell_type": "code",
   "execution_count": 31,
   "metadata": {},
   "outputs": [],
   "source": [
    "x0 = np.zeros((10, 1))\n",
    "x0[0][0] = 1\n",
    "problem = Problem('P10_exponential_10',x0, project_problems.exponential_func, project_problems.exponential_grad, project_problems.exponential_Hess)"
   ]
  },
  {
   "cell_type": "code",
   "execution_count": 32,
   "metadata": {},
   "outputs": [],
   "source": [
    "options = Options()"
   ]
  },
  {
   "cell_type": "code",
   "execution_count": 33,
   "metadata": {},
   "outputs": [
    {
     "name": "stderr",
     "output_type": "stream",
     "text": [
      "C:\\Users\\lchen\\code_submission_Team Dynamix\\project_problems.py:382: RuntimeWarning: overflow encountered in exp\n",
      "  f = 1 - 2/(np.exp(x[0][0]) + 1) + 0.1 * np.exp(-x[0][0])\n"
     ]
    }
   ],
   "source": [
    "x_backtrack_gd, f_backtrack_gd = optSolver_Dynamix(problem,method_gd_backtrack,options)\n",
    "x_wolfe_gd, f_wolfe_gd = optSolver_Dynamix(problem,method_gd_wolfe,options)\n",
    "x_backtrack_newton, f_backtrack_newton = optSolver_Dynamix(problem,method_modified_newton_backtrack,options)\n",
    "x_wolfe_newton, f_wolfe_newton = optSolver_Dynamix(problem,method_modified_newton_wolfe,options)\n",
    "\n",
    "x_tr_newton, f_tr_newton = optSolver_Dynamix(problem,method_tr_newton,options)\n",
    "x_tr_sr1, f_tr_sr1 = optSolver_Dynamix(problem,method_tr_sr1,options)\n",
    "\n",
    "x_backtrack_BFGS, f_backtrack_BFGS = optSolver_Dynamix(problem,method_BFGS_backtrack,options)\n",
    "x_wolfe_BFGS, f_wolfe_BFGS  = optSolver_Dynamix(problem,method_BFGS_wolfe,options)\n",
    "x_backtrack_DFP, f_backtrack_DFP = optSolver_Dynamix(problem,method_DFP_backtrack,options)\n",
    "x_wolfe_DFP, f_wolfe_DFP = optSolver_Dynamix(problem,method_DFP_wolfe,options)"
   ]
  },
  {
   "cell_type": "markdown",
   "metadata": {},
   "source": [
    "Problem 11"
   ]
  },
  {
   "cell_type": "code",
   "execution_count": 34,
   "metadata": {},
   "outputs": [],
   "source": [
    "x0 = np.zeros((1000, 1))\n",
    "x0[0][0] = 1\n",
    "problem = Problem('P11_exponential_1000',x0, project_problems.exponential_func, project_problems.exponential_grad, project_problems.exponential_Hess)"
   ]
  },
  {
   "cell_type": "code",
   "execution_count": 35,
   "metadata": {},
   "outputs": [],
   "source": [
    "options = Options()"
   ]
  },
  {
   "cell_type": "code",
   "execution_count": 36,
   "metadata": {},
   "outputs": [],
   "source": [
    "x_backtrack_gd, f_backtrack_gd = optSolver_Dynamix(problem,method_gd_backtrack,options)\n",
    "x_wolfe_gd, f_wolfe_gd = optSolver_Dynamix(problem,method_gd_wolfe,options)\n",
    "x_backtrack_newton, f_backtrack_newton = optSolver_Dynamix(problem,method_modified_newton_backtrack,options)\n",
    "x_wolfe_newton, f_wolfe_newton = optSolver_Dynamix(problem,method_modified_newton_wolfe,options)\n",
    "\n",
    "x_tr_newton, f_tr_newton = optSolver_Dynamix(problem,method_tr_newton,options)\n",
    "x_tr_sr1, f_tr_sr1 = optSolver_Dynamix(problem,method_tr_sr1,options)\n",
    "\n",
    "x_backtrack_BFGS, f_backtrack_BFGS = optSolver_Dynamix(problem,method_BFGS_backtrack,options)\n",
    "x_wolfe_BFGS, f_wolfe_BFGS  = optSolver_Dynamix(problem,method_BFGS_wolfe,options)\n",
    "x_backtrack_DFP, f_backtrack_DFP = optSolver_Dynamix(problem,method_DFP_backtrack,options)\n",
    "x_wolfe_DFP, f_wolfe_DFP = optSolver_Dynamix(problem,method_DFP_wolfe,options)"
   ]
  },
  {
   "cell_type": "markdown",
   "metadata": {},
   "source": [
    "Problem 12"
   ]
  },
  {
   "cell_type": "code",
   "execution_count": 37,
   "metadata": {},
   "outputs": [],
   "source": [
    "x0 = np.array([[-506.2],[506.2], [506.2], [506.2], [506.2] ])\n",
    "problem = Problem('Problem_12',x0, project_problems.genhumps_5_func, project_problems.genhumps_5_grad, project_problems.genhumps_5_Hess)"
   ]
  },
  {
   "cell_type": "code",
   "execution_count": 38,
   "metadata": {},
   "outputs": [],
   "source": [
    "options = Options(c_2_ls = 0.5)"
   ]
  },
  {
   "cell_type": "code",
   "execution_count": 39,
   "metadata": {},
   "outputs": [],
   "source": [
    "x_backtrack_gd, f_backtrack_gd = optSolver_Dynamix(problem,method_gd_backtrack,options)\n",
    "x_wolfe_gd, f_wolfe_gd = optSolver_Dynamix(problem,method_gd_wolfe,options)\n",
    "x_backtrack_newton, f_backtrack_newton = optSolver_Dynamix(problem,method_modified_newton_backtrack,options)\n",
    "x_wolfe_newton, f_wolfe_newton = optSolver_Dynamix(problem,method_modified_newton_wolfe,options)\n",
    "\n",
    "x_tr_newton, f_tr_newton = optSolver_Dynamix(problem,method_tr_newton,options)\n",
    "x_tr_sr1, f_tr_sr1 = optSolver_Dynamix(problem,method_tr_sr1,options)\n",
    "\n",
    "x_backtrack_BFGS, f_backtrack_BFGS = optSolver_Dynamix(problem,method_BFGS_backtrack,options)\n",
    "x_wolfe_BFGS, f_wolfe_BFGS  = optSolver_Dynamix(problem,method_BFGS_wolfe,options)\n",
    "x_backtrack_DFP, f_backtrack_DFP = optSolver_Dynamix(problem,method_DFP_backtrack,options)\n",
    "x_wolfe_DFP, f_wolfe_DFP = optSolver_Dynamix(problem,method_DFP_wolfe,options)"
   ]
  },
  {
   "cell_type": "code",
   "execution_count": null,
   "metadata": {},
   "outputs": [],
   "source": []
  }
 ],
 "metadata": {
  "kernelspec": {
   "display_name": "Python 3",
   "language": "python",
   "name": "python3"
  },
  "language_info": {
   "codemirror_mode": {
    "name": "ipython",
    "version": 3
   },
   "file_extension": ".py",
   "mimetype": "text/x-python",
   "name": "python",
   "nbconvert_exporter": "python",
   "pygments_lexer": "ipython3",
   "version": "3.7.7"
  }
 },
 "nbformat": 4,
 "nbformat_minor": 4
}

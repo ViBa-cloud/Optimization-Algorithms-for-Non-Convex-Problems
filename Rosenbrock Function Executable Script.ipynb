{
 "cells": [
  {
   "cell_type": "code",
   "execution_count": 1,
   "metadata": {},
   "outputs": [],
   "source": [
    "# IOE 511/MATH 562, University of Michigan\n",
    "# Code written by: Chenfei Li, Rachit Garg, Vinayak Bassi\n",
    "import numpy as np\n",
    "import project_problems\n",
    "import algorithms\n",
    "from optSolver_Dynamix import optSolver_Dynamix\n",
    "import matplotlib.pyplot as plt\n",
    "import pandas as pd\n",
    "\n",
    "## Define three class objects required in 'optSolver' and their attributes \n",
    "## For Problem, it has name, x0, compute_f, compute_g, and compute_H\n",
    "class Problem:\n",
    "    def __init__(self,name,x0, compute_f,compute_g,compute_H):\n",
    "        self.name = name\n",
    "        self.x0 = x0\n",
    "        self.compute_f = compute_f\n",
    "        self.compute_g = compute_g\n",
    "        self.compute_H = compute_H"
   ]
  },
  {
   "cell_type": "code",
   "execution_count": 2,
   "metadata": {},
   "outputs": [],
   "source": [
    "## For Method, it has name, the name of the method; and step_type, \"Backtracking\" or \"Wolfe\" (GD also accpets \"Constant\")\n",
    "class Method:\n",
    "    def __init__(self,name,step_type):\n",
    "        self.name = name\n",
    "        self.step_type = step_type"
   ]
  },
  {
   "cell_type": "code",
   "execution_count": 3,
   "metadata": {},
   "outputs": [],
   "source": [
    "# For Options, it sets all parameters with default values. \n",
    "#              constant_step_size is the default step size for GD method with constant step size, \n",
    "#              although this method is not used, we still would like to keep it there\n",
    "class Options:\n",
    "    def __init__(self,term_tol = 1e-6, max_iterations = 1e3, constant_step_size = 1e-3, alpha_bar = 1, alpha_low = 0, alpha_high = 1000, \\\n",
    "                 c_1_ls = 10 ** (-4), c_2_ls = 0.9, c_ls_w = 0.5, tau_ls = 0.5, \\\n",
    "                 c_1_tr = 0.1, c_2_tr = 0.9, c_3_tr = 1e-6, delta_tr = 0.1, max_iterations_CG = 1e3, term_tol_CG = 1e-6, beta_Newton = 1e-6):\n",
    "        self.term_tol = term_tol\n",
    "        self.max_iterations = max_iterations\n",
    "        self.constant_step_size = constant_step_size\n",
    "        self.alpha_bar = alpha_bar\n",
    "        self.alpha_low = alpha_low\n",
    "        self.alpha_high = alpha_high\n",
    "        self.c_1_ls = c_1_ls\n",
    "        self.c_2_ls = c_2_ls\n",
    "        self.c_ls_w = c_ls_w\n",
    "        self.tau_ls = tau_ls \n",
    "        self.c_1_tr = c_1_tr\n",
    "        self.c_2_tr = c_2_tr\n",
    "        self.c_3_tr = c_3_tr\n",
    "        self.delta_tr = delta_tr\n",
    "        self.max_iterations_CG = max_iterations_CG\n",
    "        self.term_tol_CG = term_tol_CG\n",
    "        self.beta_Newton = beta_Newton"
   ]
  },
  {
   "cell_type": "markdown",
   "metadata": {},
   "source": [
    "Our algorithm of choice is the Modified Newton's method with backtracking, with default parameters. \\\n",
    "The Rosenbrock Problem when n = 2"
   ]
  },
  {
   "cell_type": "code",
   "execution_count": 4,
   "metadata": {},
   "outputs": [],
   "source": [
    "x0 = np.array([[-1.2], [1]])\n",
    "problem = Problem('P7_rosen_2',x0, project_problems.rosen_func, project_problems.rosen_grad, project_problems.rosen_Hess)"
   ]
  },
  {
   "cell_type": "code",
   "execution_count": 5,
   "metadata": {},
   "outputs": [],
   "source": [
    "method_modified_newton_backtrack = Method('ModifiedNewton', 'Backtracking')"
   ]
  },
  {
   "cell_type": "code",
   "execution_count": 6,
   "metadata": {},
   "outputs": [],
   "source": [
    "options = Options()"
   ]
  },
  {
   "cell_type": "code",
   "execution_count": 7,
   "metadata": {},
   "outputs": [],
   "source": [
    "x_backtrack_newton, f_backtrack_newton = optSolver_Dynamix(problem,method_modified_newton_backtrack,options)"
   ]
  },
  {
   "cell_type": "code",
   "execution_count": null,
   "metadata": {},
   "outputs": [],
   "source": []
  }
 ],
 "metadata": {
  "kernelspec": {
   "display_name": "Python 3",
   "language": "python",
   "name": "python3"
  },
  "language_info": {
   "codemirror_mode": {
    "name": "ipython",
    "version": 3
   },
   "file_extension": ".py",
   "mimetype": "text/x-python",
   "name": "python",
   "nbconvert_exporter": "python",
   "pygments_lexer": "ipython3",
   "version": "3.7.7"
  }
 },
 "nbformat": 4,
 "nbformat_minor": 4
}
